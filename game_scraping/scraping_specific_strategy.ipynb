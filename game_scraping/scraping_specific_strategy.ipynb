{
 "cells": [
  {
   "cell_type": "markdown",
   "metadata": {},
   "source": [
    "#### 10% for 7 week, 20% for the rest"
   ]
  },
  {
   "cell_type": "code",
   "execution_count": 1,
   "metadata": {},
   "outputs": [],
   "source": [
    "import time\n",
    "import pandas as pd\n",
    "from selenium.webdriver.common.by import By\n",
    "from scraping import init_driver, to_excel"
   ]
  },
  {
   "cell_type": "code",
   "execution_count": 2,
   "metadata": {},
   "outputs": [],
   "source": [
    "driver = init_driver()\n",
    "driver.get(\"http://www.randhawa.us/games/retailer/nyu.html\")\n",
    "\n",
    "# click buttons 10%, maintain for 7 weeks, 20%, maintain for the rest weeks\n",
    "def execute_strategy(driver):\n",
    "    # 10% button for the first week\n",
    "    driver.find_element(By.ID, \"tenButton\").click()\n",
    "    time.sleep(1)\n",
    "    \n",
    "    # maintain price for the next 6 weeks (weeks 2-7)\n",
    "    for _ in range(6):\n",
    "        driver.find_element(By.ID, \"maintainButton\").click()\n",
    "        time.sleep(1)\n",
    "    \n",
    "    # 20% button for the 8th week\n",
    "    driver.find_element(By.ID, \"twentyButton\").click()\n",
    "    time.sleep(1)\n",
    "    \n",
    "    # maintain price for the remaining weeks (weeks 9-15)\n",
    "    for _ in range(7):\n",
    "        driver.find_element(By.ID, \"maintainButton\").click()\n",
    "        time.sleep(1)\n"
   ]
  },
  {
   "cell_type": "code",
   "execution_count": 3,
   "metadata": {},
   "outputs": [],
   "source": [
    "def scrape_data(driver):\n",
    "    data = driver.find_element(By.ID, \"result-table\").text\n",
    "    splitdata = data.split(\"\\n\")\n",
    "    columns = splitdata[0].split(\" \")\n",
    "    values_split = [row.split(\" \") for row in splitdata[1:]]\n",
    "    \n",
    "    table = pd.DataFrame(values_split, columns=columns[:4])\n",
    "    return table"
   ]
  },
  {
   "cell_type": "code",
   "execution_count": 4,
   "metadata": {},
   "outputs": [
    {
     "name": "stdout",
     "output_type": "stream",
     "text": [
      "Attempt 1/100\n",
      "Attempt 2/100\n",
      "Attempt 3/100\n",
      "Attempt 4/100\n",
      "Attempt 5/100\n",
      "Attempt 6/100\n",
      "Attempt 7/100\n",
      "Attempt 8/100\n",
      "Attempt 9/100\n",
      "Attempt 10/100\n",
      "Attempt 11/100\n",
      "Attempt 12/100\n",
      "Attempt 13/100\n",
      "Attempt 14/100\n",
      "Attempt 15/100\n",
      "Attempt 16/100\n",
      "Attempt 17/100\n",
      "Attempt 18/100\n",
      "Attempt 19/100\n",
      "Attempt 20/100\n",
      "Attempt 21/100\n",
      "Attempt 22/100\n",
      "Attempt 23/100\n",
      "Attempt 24/100\n",
      "Attempt 25/100\n",
      "Attempt 26/100\n",
      "Attempt 27/100\n",
      "Attempt 28/100\n",
      "Attempt 29/100\n",
      "Attempt 30/100\n",
      "Attempt 31/100\n",
      "Attempt 32/100\n",
      "Attempt 33/100\n",
      "Attempt 34/100\n",
      "Attempt 35/100\n",
      "Attempt 36/100\n",
      "Attempt 37/100\n",
      "Attempt 38/100\n",
      "Attempt 39/100\n",
      "Attempt 40/100\n",
      "Attempt 41/100\n",
      "Attempt 42/100\n",
      "Attempt 43/100\n",
      "Attempt 44/100\n",
      "Attempt 45/100\n",
      "Attempt 46/100\n",
      "Attempt 47/100\n",
      "Attempt 48/100\n",
      "Attempt 49/100\n",
      "Attempt 50/100\n",
      "Attempt 51/100\n",
      "Attempt 52/100\n",
      "Attempt 53/100\n",
      "Attempt 54/100\n",
      "Attempt 55/100\n",
      "Attempt 56/100\n",
      "Attempt 57/100\n",
      "Attempt 58/100\n",
      "Attempt 59/100\n",
      "Attempt 60/100\n",
      "Attempt 61/100\n",
      "Attempt 62/100\n",
      "Attempt 63/100\n",
      "Attempt 64/100\n",
      "Attempt 65/100\n",
      "Attempt 66/100\n",
      "Attempt 67/100\n",
      "Attempt 68/100\n",
      "Attempt 69/100\n",
      "Attempt 70/100\n",
      "Attempt 71/100\n",
      "Attempt 72/100\n",
      "Attempt 73/100\n",
      "Attempt 74/100\n",
      "Attempt 75/100\n",
      "Attempt 76/100\n",
      "Attempt 77/100\n",
      "Attempt 78/100\n",
      "Attempt 79/100\n",
      "Attempt 80/100\n",
      "Attempt 81/100\n",
      "Attempt 82/100\n",
      "Attempt 83/100\n",
      "Attempt 84/100\n",
      "Attempt 85/100\n",
      "Attempt 86/100\n",
      "Attempt 87/100\n",
      "Attempt 88/100\n",
      "Attempt 89/100\n",
      "Attempt 90/100\n",
      "Attempt 91/100\n",
      "Attempt 92/100\n",
      "Attempt 93/100\n",
      "Attempt 94/100\n",
      "Attempt 95/100\n",
      "Attempt 96/100\n",
      "Attempt 97/100\n",
      "Attempt 98/100\n",
      "Attempt 99/100\n",
      "Attempt 100/100\n"
     ]
    },
    {
     "name": "stderr",
     "output_type": "stream",
     "text": [
      "/Users/sheidamajidi/Desktop/Summer2024/MGSC670/G-HW1/retailer_game/game_scraping/scraping.py:19: FutureWarning: Starting with pandas version 3.0 all arguments of to_excel except for the argument 'excel_writer' will be keyword-only.\n",
      "  df.to_excel(writer, 'Sheet1')\n"
     ]
    }
   ],
   "source": [
    "attempts = 100\n",
    "all_data = []\n",
    "\n",
    "\n",
    "for attempt in range(attempts):\n",
    "    print(f\"Attempt {attempt+1}/{attempts}\")\n",
    "    driver.find_element(By.ID, \"practiceButton\").click()\n",
    "    time.sleep(1) \n",
    "    \n",
    "    \n",
    "    execute_strategy(driver)\n",
    "    \n",
    "\n",
    "    table = scrape_data(driver)\n",
    "    \n",
    "\n",
    "    all_data.append(table)\n",
    "\n",
    "\n",
    "final_table = pd.concat(all_data, ignore_index=True)\n",
    "\n",
    "to_excel(final_table, \"scraping_specific_results\")\n"
   ]
  },
  {
   "cell_type": "code",
   "execution_count": 5,
   "metadata": {},
   "outputs": [
    {
     "name": "stdout",
     "output_type": "stream",
     "text": [
      "     Week Price Sales Remaining\n",
      "0       1    60   114      1886\n",
      "1       2    54   205      1681\n",
      "2       3    54   180      1501\n",
      "3       4    54   116      1385\n",
      "4       5    54   167      1218\n",
      "...   ...   ...   ...       ...\n",
      "1495   11    48   135       535\n",
      "1496   12    48   203       332\n",
      "1497   13    48    89       243\n",
      "1498   14    48   167        76\n",
      "1499   15    48    76         0\n",
      "\n",
      "[1500 rows x 4 columns]\n"
     ]
    }
   ],
   "source": [
    "print(final_table)"
   ]
  }
 ],
 "metadata": {
  "kernelspec": {
   "display_name": "Python (poenv)",
   "language": "python",
   "name": "poenv"
  },
  "language_info": {
   "codemirror_mode": {
    "name": "ipython",
    "version": 3
   },
   "file_extension": ".py",
   "mimetype": "text/x-python",
   "name": "python",
   "nbconvert_exporter": "python",
   "pygments_lexer": "ipython3",
   "version": "3.11.5"
  }
 },
 "nbformat": 4,
 "nbformat_minor": 2
}
